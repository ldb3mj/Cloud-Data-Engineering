{
 "cells": [
  {
   "cell_type": "code",
   "execution_count": 1,
   "id": "023c66d2-f8c4-4645-be80-22fed843879b",
   "metadata": {},
   "outputs": [
    {
     "name": "stdout",
     "output_type": "stream",
     "text": [
      "hello world\n"
     ]
    }
   ],
   "source": [
    "print('hello world')"
   ]
  },
  {
   "cell_type": "markdown",
   "id": "b0a66103-e681-4dca-9abb-a59c3a0c968e",
   "metadata": {},
   "source": [
    "# This is a title\n",
    "\n",
    "This is plain text"
   ]
  },
  {
   "cell_type": "code",
   "execution_count": null,
   "id": "650d9ae2-f680-42c5-a4d6-2b2e3aba62f4",
   "metadata": {},
   "outputs": [],
   "source": []
  }
 ],
 "metadata": {
  "kernelspec": {
   "display_name": "Python 3 (ipykernel)",
   "language": "python",
   "name": "python3"
  },
  "language_info": {
   "codemirror_mode": {
    "name": "ipython",
    "version": 3
   },
   "file_extension": ".py",
   "mimetype": "text/x-python",
   "name": "python",
   "nbconvert_exporter": "python",
   "pygments_lexer": "ipython3",
   "version": "3.9.2"
  }
 },
 "nbformat": 4,
 "nbformat_minor": 5
}
