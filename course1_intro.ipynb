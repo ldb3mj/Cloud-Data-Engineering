{
 "cells": [
  {
   "cell_type": "markdown",
   "id": "3d0b9c99-642a-4b24-9e77-a900bb8165db",
   "metadata": {},
   "source": [
    "[![Open In Colab](https://colab.research.google.com/assets/colab-badge.svg)](https://colab.research.google.com/github/ldb3mj/Cloud-Data-Engineering/blob/main/course1_intro.ipynb)"
   ]
  },
  {
   "cell_type": "markdown",
   "id": "b0a66103-e681-4dca-9abb-a59c3a0c968e",
   "metadata": {},
   "source": [
    "# Practice with Markdown\n",
    "\n",
    "This notebook is practice in producing repeatable technical documentation"
   ]
  },
  {
   "cell_type": "code",
   "execution_count": 1,
   "id": "023c66d2-f8c4-4645-be80-22fed843879b",
   "metadata": {},
   "outputs": [
    {
     "name": "stdout",
     "output_type": "stream",
     "text": [
      "hello world\n"
     ]
    }
   ],
   "source": [
    "print('hello world')"
   ]
  }
 ],
 "metadata": {
  "kernelspec": {
   "display_name": "Python 3 (ipykernel)",
   "language": "python",
   "name": "python3"
  },
  "language_info": {
   "codemirror_mode": {
    "name": "ipython",
    "version": 3
   },
   "file_extension": ".py",
   "mimetype": "text/x-python",
   "name": "python",
   "nbconvert_exporter": "python",
   "pygments_lexer": "ipython3",
   "version": "3.9.2"
  }
 },
 "nbformat": 4,
 "nbformat_minor": 5
}
